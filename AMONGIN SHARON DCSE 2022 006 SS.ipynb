{
 "cells": [
  {
   "cell_type": "markdown",
   "id": "fdf4749e",
   "metadata": {},
   "source": [
    "## TEST Preamble:\n",
    "\n",
    "This test assignment, has two sections *Probability Theory & Linear Algebra*, Probability is the mathematical field that enables us to quantify uncertainty as well as to make predictions despite uncertainty. While *Linear Algebra is basically Matrix and Vector Operations*, that builds on the basics of linear algebra as learned in theory. \n"
   ]
  },
  {
   "cell_type": "markdown",
   "id": "7f65e89d",
   "metadata": {},
   "source": [
    "## Instructions\n",
    "\n",
    "* Your are to free to setup your own Jupyter Notebook, and supply all the answers to the questions inthere or work from the one I have provided.\n",
    "* Attempt all questions in **Section 1** and **At least 4** from **Section 2**, and as many as you can from the last section **optional Section**"
   ]
  },
  {
   "cell_type": "markdown",
   "id": "3cce027d",
   "metadata": {},
   "source": [
    "## By Assessing the context and questions in this test assignment"
   ]
  },
  {
   "cell_type": "markdown",
   "id": "32d1d308",
   "metadata": {},
   "source": [
    "Import all the relevant libraries you may need in the course of this assignment"
   ]
  },
  {
   "cell_type": "code",
   "execution_count": null,
   "id": "0d400224",
   "metadata": {},
   "outputs": [],
   "source": [
    "# import all the neccessary libraries needed (Max 2.5 marks allowed)\n",
    "import numpy as np\n",
    "import matplotlib.pyplot as plt"
   ]
  },
  {
   "cell_type": "markdown",
   "id": "331968bd",
   "metadata": {},
   "source": [
    "## Section 1: Introduction to Probability"
   ]
  },
  {
   "cell_type": "markdown",
   "id": "cbc5b95b",
   "metadata": {},
   "source": [
    "### What Probability Theory Is! "
   ]
  },
  {
   "cell_type": "markdown",
   "id": "033f2579",
   "metadata": {},
   "source": [
    "### Here below is a quick review of probability and Combinatorial. Go through carefully and pick a leaf to answer the questions at the end"
   ]
  },
  {
   "cell_type": "markdown",
   "id": "9f8c7b7c",
   "metadata": {},
   "source": [
    "#### Events and Sample Spaces"
   ]
  },
  {
   "cell_type": "markdown",
   "id": "4eac3dee",
   "metadata": {},
   "source": [
    "Let's assume we have a fair coin, which is equally likely to come up heads (H) or tails (T)."
   ]
  },
  {
   "cell_type": "markdown",
   "id": "9cb67e60",
   "metadata": {},
   "source": [
    "In instances like this, where the two outcomes are equally likely, we can use probability theory to express the likelihood of a particular **event** by comparing it with the **sample space** (the set of all possible outcomes; can be denoted as $\\Omega$): "
   ]
  },
  {
   "cell_type": "markdown",
   "id": "c5332bd2",
   "metadata": {},
   "source": [
    "$$ P(\\text{event}) = \\frac{\\text{# of outcomes of event}}{\\text{# of outcomes in }\\Omega} $$"
   ]
  },
  {
   "cell_type": "markdown",
   "id": "78943c65",
   "metadata": {},
   "source": [
    "If we're only flipping the coin once, then there are only two possible outcomes in the sample space $\\Omega$: it will either be H or T (using set notation, we could write this as $\\Omega$ = {H, T})."
   ]
  },
  {
   "cell_type": "markdown",
   "id": "b786fd87",
   "metadata": {},
   "source": [
    "Therefore: $$ P(H) = \\frac{1}{2} = 0.5 $$"
   ]
  },
  {
   "cell_type": "markdown",
   "id": "725833cc",
   "metadata": {},
   "source": [
    "Equally: $$ P(T) = \\frac{1}{2} = 0.5 $$"
   ]
  },
  {
   "cell_type": "markdown",
   "id": "cb2c8415",
   "metadata": {},
   "source": [
    "As a separate example, consider drawing a single card from a standard deck of 52 playing cards. In this case, the number of possible outcomes in the sample space $\\Omega$ is 52. "
   ]
  },
  {
   "cell_type": "markdown",
   "id": "56ead33e",
   "metadata": {},
   "source": [
    "There is only one ace of spades in the deck, so the probability of drawing it is: $$ P(\\text{ace of spades}) = \\frac{1}{52} \\approx 0.019 $$"
   ]
  },
  {
   "cell_type": "markdown",
   "id": "1b4b52a5",
   "metadata": {},
   "source": [
    "In contrast there are four aces, so the probability of drawing an ace is: $$ P(\\text{ace}) = \\frac{4}{52} \\approx 0.077 $$"
   ]
  },
  {
   "cell_type": "markdown",
   "id": "720fe7d5",
   "metadata": {},
   "source": [
    "Some additional examples: \n",
    "$$ P(\\text{spade}) = \\frac{13}{52} = 0.25 $$\n",
    "$$ P(\\text{ace OR spade}) = \\frac{16}{52} \\approx 0.307 $$\n",
    "$$ P(\\text{card}) = \\frac{52}{52} = 1 $$\n",
    "$$ P(\\text{turnip}) = \\frac{0}{52} = 0 $$"
   ]
  },
  {
   "cell_type": "markdown",
   "id": "81c4a306",
   "metadata": {},
   "source": [
    "#### Multiple Independent Observations"
   ]
  },
  {
   "cell_type": "markdown",
   "id": "fba9c9d9",
   "metadata": {},
   "source": [
    "Let's return to coin flipping to illustrate situations where we have an event consisting of multiple independent observations. For example, the probability of throwing two consecutive heads is: $$ P(\\text{HH}) = \\frac{1}{4} = 0.25 $$ ...because there is one HH event in the sample set of four possible events ($\\Omega$ = {HH, HT, TH, TT})."
   ]
  },
  {
   "cell_type": "markdown",
   "id": "d07bb2bf",
   "metadata": {},
   "source": [
    "Likewise, the probability of throwing *three* consecutive heads is: $$ P(\\text{HHH}) = \\frac{1}{8} = 0.125 $$ ...because there is one HHH event in the sample set of eight possible events ($\\Omega$ = {HHH, HHT, HTH, THH, HTT, THT, TTH, TTT})."
   ]
  },
  {
   "cell_type": "markdown",
   "id": "ff63365e",
   "metadata": {},
   "source": [
    "As final examples, the probability of throwing exactly two heads in three tosses is $ P = \\frac{3}{8} = 0.375 $ while the probability of throwing at least two heads in three tosses is $ P = \\frac{4}{8} = 0.5 $."
   ]
  },
  {
   "cell_type": "markdown",
   "id": "4bff124b",
   "metadata": {},
   "source": [
    "#### Combining Probabilities"
   ]
  },
  {
   "cell_type": "markdown",
   "id": "5361b160",
   "metadata": {},
   "source": [
    "In order to combine probabilities, we can multiply them. So the probability of throwing five consecutive heads, for example, is the product of probabilities we've already calculated: $$ P(\\text{HHHHH}) = P(\\text{HH}) \\times P(\\text{HHH}) = \\frac{1}{4} \\times \\frac{1}{8} = \\frac{1}{32} \\approx 0.031 $$"
   ]
  },
  {
   "cell_type": "markdown",
   "id": "b7b3cd28",
   "metadata": {},
   "source": [
    "#### Combinatorics"
   ]
  },
  {
   "cell_type": "markdown",
   "id": "fb4596aa",
   "metadata": {},
   "source": [
    "*Combinatorics* is a field of mathematics devoted to counting that can be helpful to studying probabilities. We can use **factorials** (e.g., $4! = 4 \\times 3 \\times 2 \\times 1 = 24$), which feature prominently in combinatorics, to calculate probabilities instead of painstakingly determining all of the members of the sample space $\\Omega$ and counting subsets within $\\Omega$. "
   ]
  },
  {
   "cell_type": "markdown",
   "id": "d2cb1b7a",
   "metadata": {},
   "source": [
    "More specifically, we can calculate the number of outcomes of an event using the \"number of combinations\" equation: $$ {n \\choose k} = \\frac{n!}{k!(n - k)!} $$"
   ]
  },
  {
   "cell_type": "markdown",
   "id": "5feaf74b",
   "metadata": {},
   "source": [
    "The left-hand side of the equation is read \"$n$ choose $k$\" and is most quickly understood via an example: If we have three coin flips, $n = 3$, and if we're interested in the number of ways to get two head flips (or two tail flips, for that matter), $k = 2$. We would read this as \"3 choose 2\" and calculate it as:\n",
    "$$ {n \\choose k} = {3 \\choose 2} = \\frac{3!}{2!(3 - 2)!} = \\frac{3!}{(2!)(1!)} = \\frac{3 \\times 2 \\times 1}{(2 \\times 1)(1)} = \\frac{6}{(2)(1)} = \\frac{6}{2} = 3 $$"
   ]
  },
  {
   "cell_type": "markdown",
   "id": "f992ea9a",
   "metadata": {},
   "source": [
    "This provide us with the numerator for event-probability equation from above: $$ P(\\text{event}) = \\frac{\\text{# of outcomes of event}}{\\text{# of outcomes in }\\Omega} $$"
   ]
  },
  {
   "cell_type": "markdown",
   "id": "76376509",
   "metadata": {},
   "source": [
    "In the case of coin-flipping (or any binary process with equally probable outcomes), the denominator can be calculated with $2^n$ (where $n$ is again the number of coin flips), so: $$ \\frac{\\text{# of outcomes of event}}{\\text{# of outcomes in }\\Omega} = \\frac{3}{2^n} = \\frac{3}{2^3} = \\frac{3}{8} = 0.375 $$"
   ]
  },
  {
   "cell_type": "code",
   "execution_count": null,
   "id": "c97010fd",
   "metadata": {},
   "outputs": [],
   "source": [
    "#importing libraries\n",
    "import numpy as np\n",
    "import matplotlib.pyplot as plt"
   ]
  },
  {
   "cell_type": "markdown",
   "id": "66e2171d",
   "metadata": {},
   "source": [
    "## Multiple Choice Exercises: Calculate and Select your best solution (Each Question is one Mark)\n",
    "\n",
    "1. What is the probability of drawing the ace of spades twice in a row? (Assume that any card drawn on the first draw will be put back in the deck before the second draw.)\n",
    "\n",
    "A. 0.037%\n",
    "\n",
    "B. 0.050%\n",
    "\n",
    "C. 0.010%\n",
    "\n",
    "D. 0.100%\n",
    "\n",
    "2. You draw a card from a deck of cards. After replacing the drawn card back in the deck and shuffling thoroughly, what is the probability of drawing the same card again? \n",
    "\n",
    " A. 0.010\n",
    " \n",
    " B. 0.018\n",
    " \n",
    " C. 0.081\n",
    " \n",
    " D. 0.019\n",
    "\n",
    "3. Use $n \\choose k$ to calculate the probability of throwing three heads in five coin tosses.\n",
    "\n",
    "A. 0.3125\n",
    "\n",
    "B. 0.5210\n",
    "\n",
    "C. 0.3100\n",
    "\n",
    "D. 0.2135\n",
    "\n",
    "4.  Which of the following Expressions below correspond to the statement: **the probability that it is Monday given that it is raining**?\n",
    "\n",
    "A. Pr(Monday|rain)\n",
    "\n",
    "B. Pr(rain|Monday)\n",
    "\n",
    "C. Pr(rain|Monday)Pr(Monday)\n",
    "\n",
    "D. Pr(Monday|rain) Pr(rain)/Pr(Monday)\n",
    "\n",
    "5. Which of the following Expressions below correspond to the statement: **Pr(Monday|rain)**?\n",
    "\n",
    "A. The Probability of rain on Monday\n",
    "\n",
    "B. The Probability of rain given that it is Monday\n",
    "\n",
    "C. The Probability that it is Monday, given that it is raining\n",
    "\n",
    "D. The probability that it is Monday and that it is raining\n",
    "\n",
    "6. Which of the following Expressions below correspond to the statement: **the probability of rain on Monday**?\n",
    "\n",
    "A. Pr(rain)\n",
    "\n",
    "B. Pr(rain|Monday)\n",
    "\n",
    "C. Pr(Monday|rain)\n",
    "\n",
    "D. Pr(rain, Monday)/Pr(Monday)\n",
    "\n",
    "7. A professor thinks students who live on campus are more likely to get **A**s in the probability course. To check this theory, the professor combines the data from the past few years. 600 students have taken the course, 120 students have gotten As, 200 students lived on campus, 80 students lived off campus and got As.\n",
    "\n",
    "A. Pr(AnB) = Pr(A)+Pr(B)\n",
    "\n",
    "B. Pr(AnB) = Pr(A) * Pr(B) - Pr(AnB)\n",
    "\n",
    "C. Pr(AnB) = Pr(A) * Pr(B)\n",
    "\n",
    "D. Pr(AnB) = (Pr(A) * Pr(B))/(Pr(B))\n",
    "\n",
    "8. Does this data suggest that \"getting an A\" and \"living on campus\" are dependent or independent?  \n",
    " \n",
    " A. Agree\n",
    " \n",
    " B. Disagree\n",
    " \n",
    " C. Neutral \n",
    " \n",
    " D. Insufficient Information provided\n",
    "\n",
    "9. Suppose that I want to purchase a smart phone. I can choose either a large or a small screen; a 64GB, 128GB, or 256GB storage capacity, and a black or white cover. \n",
    "\n",
    "(a).How many different options do I have?\n",
    "\n",
    " A. 13\n",
    " \n",
    " B. 0\n",
    " \n",
    " C. 9/10 \n",
    " \n",
    " D. Insufficient Information provided\n",
    " \n",
    " 10. A block of 100 bits is trasmitted in a binary channel with a probability of bit error **P= 0.002**\n",
    "\n",
    "(a) If the block has 1 or fewer errors,then the receiver accepts the block. What is the **probability** that the block is accepted?\n",
    "\n",
    "A. 0.735\n",
    "\n",
    "B. 0.501\n",
    "\n",
    "C. 0.350\n",
    "\n",
    "D. 0.100\n",
    "\n",
    "(b) If the block has more that 1 errors, then the block is retrasmitted.\n",
    "What is the **probability** that 4 blocks are trasmitted?\n",
    "\n",
    "(1) 0.013\n",
    "\n",
    "(2) 0.0350\n",
    "\n",
    "(3) 0.430\n",
    "\n",
    "(4) 0.500\n"
   ]
  },
  {
   "cell_type": "markdown",
   "id": "fdf1a723",
   "metadata": {},
   "source": [
    "## question 1"
   ]
  },
  {
   "cell_type": "code",
   "execution_count": null,
   "id": "539ac0f7",
   "metadata": {},
   "outputs": [],
   "source": [
    "B"
   ]
  },
  {
   "cell_type": "markdown",
   "id": "9fed17ca",
   "metadata": {},
   "source": [
    "## question 2"
   ]
  },
  {
   "cell_type": "code",
   "execution_count": null,
   "id": "d938ab35",
   "metadata": {},
   "outputs": [],
   "source": [
    "A"
   ]
  },
  {
   "cell_type": "markdown",
   "id": "6b1e1327",
   "metadata": {},
   "source": [
    "## question 3"
   ]
  },
  {
   "cell_type": "code",
   "execution_count": null,
   "id": "f097ae73",
   "metadata": {},
   "outputs": [],
   "source": [
    "B"
   ]
  },
  {
   "cell_type": "markdown",
   "id": "d5ce532f",
   "metadata": {},
   "source": [
    "## question 4"
   ]
  },
  {
   "cell_type": "code",
   "execution_count": null,
   "id": "9f9c2415",
   "metadata": {},
   "outputs": [],
   "source": [
    "B"
   ]
  },
  {
   "cell_type": "markdown",
   "id": "5170d611",
   "metadata": {},
   "source": [
    "### question 5"
   ]
  },
  {
   "cell_type": "code",
   "execution_count": null,
   "id": "78a105e7",
   "metadata": {},
   "outputs": [],
   "source": [
    "B"
   ]
  },
  {
   "cell_type": "markdown",
   "id": "1ddae1f4",
   "metadata": {},
   "source": [
    "## question 6"
   ]
  },
  {
   "cell_type": "code",
   "execution_count": null,
   "id": "c213afc9",
   "metadata": {},
   "outputs": [],
   "source": [
    "D"
   ]
  },
  {
   "cell_type": "markdown",
   "id": "644eab73",
   "metadata": {},
   "source": [
    "## question 7"
   ]
  },
  {
   "cell_type": "code",
   "execution_count": null,
   "id": "ae7e084e",
   "metadata": {},
   "outputs": [],
   "source": [
    "c"
   ]
  },
  {
   "cell_type": "markdown",
   "id": "c12a2603",
   "metadata": {},
   "source": [
    "## question 8"
   ]
  },
  {
   "cell_type": "code",
   "execution_count": null,
   "id": "4300f5f7",
   "metadata": {},
   "outputs": [],
   "source": [
    "A"
   ]
  },
  {
   "cell_type": "markdown",
   "id": "34acd5dc",
   "metadata": {},
   "source": [
    "## question 9"
   ]
  },
  {
   "cell_type": "code",
   "execution_count": null,
   "id": "91e18fef",
   "metadata": {},
   "outputs": [],
   "source": [
    "D"
   ]
  },
  {
   "cell_type": "markdown",
   "id": "a8eb8bcc",
   "metadata": {},
   "source": [
    "### question 10a"
   ]
  },
  {
   "cell_type": "code",
   "execution_count": null,
   "id": "8ddedd62",
   "metadata": {},
   "outputs": [],
   "source": [
    "D"
   ]
  },
  {
   "cell_type": "markdown",
   "id": "991063c6",
   "metadata": {},
   "source": [
    "#### Question 10b"
   ]
  },
  {
   "cell_type": "code",
   "execution_count": null,
   "id": "c9fcaa56",
   "metadata": {},
   "outputs": [],
   "source": [
    "3"
   ]
  },
  {
   "cell_type": "markdown",
   "id": "fb437f2f",
   "metadata": {},
   "source": [
    "## Section 2: Attemppt at least 4 Questions from this section"
   ]
  },
  {
   "cell_type": "markdown",
   "id": "522a0233",
   "metadata": {},
   "source": [
    "### Question 2: Moments of Probability : Expected Value"
   ]
  },
  {
   "cell_type": "markdown",
   "id": "073d63b2",
   "metadata": {},
   "source": [
    "**Exercises**:\n",
    "\n",
    "1. Assuming heads = 1 and tails = 0, what’s the expected value of the toss of a fair coin? \n",
    "2. ...and of two tosses of a fair coin? \n",
    "3. You are one of a thousand people to purchase a lottery ticket. The ticket costs \\\\$10 and pays out \\\\$5000. What value should you expect from this transaction? \n"
   ]
  },
  {
   "cell_type": "markdown",
   "id": "da44ac18",
   "metadata": {},
   "source": [
    "### Question 3: Probability Distributions\n",
    "\n",
    "### a). Binomial Distribution"
   ]
  },
  {
   "cell_type": "markdown",
   "id": "6ff29777",
   "metadata": {},
   "source": [
    "All distributions so far have been for continuous variables (PDFs). This one is discrete (PMF). \n",
    "\n",
    "We've already been using it for coin flips; it's used for binary (0 or 1) outcome. \n",
    "\n",
    "Its parameters are: \n",
    "\n",
    "* *n*: number of trials\n",
    "* *p*: probability of outcome of 1\n",
    "* *size*: number of experiments with *n* trials each"
   ]
  },
  {
   "cell_type": "code",
   "execution_count": 8,
   "id": "4a5fe8de",
   "metadata": {},
   "outputs": [],
   "source": [
    "# Given an experimental setup below\n",
    "\n",
    "n = 5\n",
    "n_experiments = 1000"
   ]
  },
  {
   "cell_type": "markdown",
   "id": "c3cc3d26",
   "metadata": {},
   "source": [
    "#### ... and that we are dealing with a Fair coin (p = 0.5), Then"
   ]
  },
  {
   "cell_type": "code",
   "execution_count": 10,
   "id": "b8ac537a",
   "metadata": {},
   "outputs": [],
   "source": [
    "heads_count = np.random.binomial(n, 0.5, n_experiments)\n",
    "heads, event_count = np.unique(heads_count, return_counts=True)\n",
    "event_proba = event_count/n_experiments"
   ]
  },
  {
   "cell_type": "code",
   "execution_count": 11,
   "id": "9fe230c4",
   "metadata": {},
   "outputs": [
    {
     "data": {
      "image/png": "[encoded data removed]",
      "text/plain": [
       "<Figure size 432x288 with 1 Axes>"
      ]
     },
     "metadata": {
      "needs_background": "light"
     },
     "output_type": "display_data"
    }
   ],
   "source": [
    "import matplotlib.pyplot as plt\n",
    "plt.bar(heads, event_proba, color='mediumpurple')\n",
    "plt.xlabel('Heads flips (out of 5 tosses)')\n",
    "_ = plt.ylabel('Event probability')"
   ]
  },
  {
   "cell_type": "markdown",
   "id": "fe3f3498",
   "metadata": {},
   "source": [
    "Then, Technically, binomial distributions are created by sampling $n>1$ \"Bernoulli trials\". The **Bernoulli** distribution is equivalent to the binomial distribution where $n=1$: "
   ]
  },
  {
   "cell_type": "markdown",
   "id": "1d068328",
   "metadata": {},
   "source": [
    "### and ..."
   ]
  },
  {
   "cell_type": "code",
   "execution_count": 4,
   "id": "761b425c",
   "metadata": {},
   "outputs": [
    {
     "data": {
      "text/plain": [
       "1"
      ]
     },
     "execution_count": 4,
     "metadata": {},
     "output_type": "execute_result"
    }
   ],
   "source": [
    "import numpy as np\n",
    "np.random.binomial(1, 0.5)"
   ]
  },
  {
   "cell_type": "markdown",
   "id": "07593c7e",
   "metadata": {},
   "source": [
    "Select **ALL** possible real-world examples of a binomial distribution basing on its key properties from the list below:\n",
    "\n",
    "* Making it to work on time\n",
    "* Candidate being invited to interview\n",
    "* Epidemiology: probability of death or catching disease\n",
    "* Number of new hires in a month\n",
    "* Extreme weather events, e.g., maximum rainfall in a day\n",
    "* Time between requests to access Wikipedia pages"
   ]
  },
  {
   "cell_type": "code",
   "execution_count": null,
   "id": "225a56c2",
   "metadata": {},
   "outputs": [],
   "source": [
    "## Supply your selections here."
   ]
  },
  {
   "cell_type": "markdown",
   "id": "4b73c918",
   "metadata": {},
   "source": [
    "## b). Poisson Distribution"
   ]
  },
  {
   "cell_type": "markdown",
   "id": "0a4eb102",
   "metadata": {},
   "source": [
    "**Poisson** is a third widely-used distribution for discrete random variables and it's the final distribution we'll cover."
   ]
  },
  {
   "cell_type": "markdown",
   "id": "50c84133",
   "metadata": {},
   "source": [
    "It's named after French mathematician Simeon Denis Poisson and is used for count data, e.g.: \n",
    "\n",
    "Select **ALL** possible real-world examples of a poisson distribution basing on its key properties from the list below:\n",
    "\n",
    "* Number of cars that drive by in a minute\n",
    "* Number of guests at restaurant in an evening\n",
    "* Number of new hires in a month\n",
    "* Child births in the national referral hospital on any particular day\n",
    "* The number of a jupyter notebook to run optimally"
   ]
  },
  {
   "cell_type": "code",
   "execution_count": null,
   "id": "6567781a",
   "metadata": {},
   "outputs": [],
   "source": [
    "## Supply your selections here."
   ]
  },
  {
   "cell_type": "markdown",
   "id": "1c3dcbf6",
   "metadata": {},
   "source": [
    "## c). Gaussian or Normal Distribution\n",
    "\n",
    "Gaussian or Normal distribution is a **standard normal distribution** (a.k.a., standard Gaussian distribution). Normal distributions can be denoted with the *math calligraphy* font as $\\mathcal{N}(\\mu, \\sigma^2)$, thus the standard normal distribution can be denoted as $\\mathcal{N}(0, 1)$. \n",
    "\n",
    "(N.B.: $\\sigma^2 = \\sigma$ in this case because $1^2 = 1$.)"
   ]
  },
  {
   "cell_type": "markdown",
   "id": "45e4cfe8",
   "metadata": {},
   "source": [
    "Normal distributions are by far the most common distribution in statistics and machine learning. They are typically the default option, particularly if you have limited information about the random process you're modeling, because: \n",
    "\n",
    "1. Normal distributions assume the greatest possible uncertainty about the random variable they represent (relative to any other distribution of equivalent variance). Details of this are beyond the scope of this tutorial. \n",
    "2. Simple and very complex random processes alike are, under all common conditions, normally distributed when we sample values from the process. Since we sample data for statistical and machine learning models alike, this so-called **central limit theorem** (covered next) is a critically important concept. "
   ]
  },
  {
   "cell_type": "markdown",
   "id": "57b171b9",
   "metadata": {},
   "source": [
    "Sellect **ALL** Possible real-world examples of a Gaussian Distribution basing on its characteristics: \n",
    "\n",
    "* Probability of heads across *n* tosses (PMF; $n = 5$ earlier, $n = 100$ below)\n",
    "* Sum of di(c)e rolls (PMF)\n",
    "* Height of adult women\n",
    "* Height of adult men\n",
    "* Education test scores, e.g., Mathematical Computing scores you will obtain today\n",
    "* Number of Children ever born \n",
    "* The Spread of COVID-19 disease in a given community"
   ]
  },
  {
   "cell_type": "code",
   "execution_count": null,
   "id": "81248c37",
   "metadata": {},
   "outputs": [],
   "source": [
    "## Supply your selections here."
   ]
  },
  {
   "cell_type": "markdown",
   "id": "c02638ee",
   "metadata": {},
   "source": [
    "# Linear Algebra"
   ]
  },
  {
   "cell_type": "markdown",
   "id": "e16cde38",
   "metadata": {},
   "source": [
    "*Review of Introductory Linear Algebra*\n",
    "\n",
    "* Modern Linear Algebra Applications\n",
    "* Tensors, Vectors, and Norms\n",
    "* Matrix Multiplication\n",
    "* Matrix Inversion\n",
    "* Identity, Diagonal and Orthogonal Matrices\n"
   ]
  },
  {
   "cell_type": "code",
   "execution_count": 7,
   "id": "76697a1f",
   "metadata": {},
   "outputs": [
    {
     "data": {
      "text/plain": [
       "array([1., 1., 1.])"
      ]
     },
     "execution_count": 7,
     "metadata": {},
     "output_type": "execute_result"
    }
   ],
   "source": [
    "# Setup: As an example\n",
    "\n",
    "import numpy as np\n",
    "\n",
    "y = np.ones(3) \n",
    "y"
   ]
  },
  {
   "cell_type": "markdown",
   "id": "580e24ee",
   "metadata": {},
   "source": [
    "### Question 4: Given an n-dim array with enteries: 25, 2, 5;"
   ]
  },
  {
   "cell_type": "markdown",
   "id": "ab348225",
   "metadata": {},
   "source": [
    "* 1. Generate a numpy array x from the given entries\n",
    "* 2. What is the shape of the array x\n",
    "* 3. What is its transpose\n",
    "* 4. Compute its $L^2$ Norm"
   ]
  },
  {
   "cell_type": "code",
   "execution_count": 4,
   "id": "19b40b2e",
   "metadata": {},
   "outputs": [
    {
     "data": {
      "text/plain": [
       "2"
      ]
     },
     "execution_count": 4,
     "metadata": {},
     "output_type": "execute_result"
    }
   ],
   "source": [
    "#solution for question  4\n",
    "#importing numpy library\n",
    "import numpy as np\n",
    "#question 1 of 4\n",
    "#generating the n-dim entries of a given numpy array\n",
    "x=np.array([[25,2,5]])\n",
    "x.ndim\n",
    "\n",
    "#the solution after generating the array is \"2\"\n",
    "\n"
   ]
  },
  {
   "cell_type": "markdown",
   "id": "90acc899",
   "metadata": {},
   "source": [
    "### the shape of x"
   ]
  },
  {
   "cell_type": "code",
   "execution_count": 5,
   "id": "b29effcd",
   "metadata": {},
   "outputs": [
    {
     "data": {
      "text/plain": [
       "(1, 3)"
      ]
     },
     "execution_count": 5,
     "metadata": {},
     "output_type": "execute_result"
    }
   ],
   "source": [
    "#question 2 of 4\n",
    "#finding the shape of x in the array\n",
    "x.shape\n",
    "#the solution after getting the shape of the array x is (1,3)"
   ]
  },
  {
   "cell_type": "markdown",
   "id": "f275c2b5",
   "metadata": {},
   "source": [
    "### transpose of the array"
   ]
  },
  {
   "cell_type": "code",
   "execution_count": 7,
   "id": "699ce6e7",
   "metadata": {},
   "outputs": [
    {
     "name": "stdout",
     "output_type": "stream",
     "text": [
      "[[25]\n",
      " [ 2]\n",
      " [ 5]]\n"
     ]
    }
   ],
   "source": [
    "#question 3 of 4\n",
    "#finding the transpose of the array\n",
    "x=np.array([[25,2,5]])\n",
    "y=(x.T)\n",
    "print(y)\n",
    "# first assign the array another variable such as y\n",
    "#after assign the transpose T\n",
    "#the solution of the transpose is [[25][2][5]]"
   ]
  },
  {
   "cell_type": "markdown",
   "id": "ae5bae72",
   "metadata": {},
   "source": [
    "### l2 norm of the array"
   ]
  },
  {
   "cell_type": "code",
   "execution_count": 8,
   "id": "08e157f4",
   "metadata": {},
   "outputs": [
    {
     "name": "stdout",
     "output_type": "stream",
     "text": [
      "625.5125898013564\n"
     ]
    }
   ],
   "source": [
    "#question 4 of 4\n",
    "# we calculate the l2 norm of the array\n",
    "x = np.array([25,2,5])\n",
    "print(np.linalg.norm(x*x))\n",
    "#the outcome of the norm is 625.5125898013564 \n"
   ]
  },
  {
   "cell_type": "markdown",
   "id": "9855e846",
   "metadata": {},
   "source": [
    "## Question 5: Given an n-darray X = np.array([[25, 2], [5, 26], [3, 7]])"
   ]
  },
  {
   "cell_type": "markdown",
   "id": "13efde54",
   "metadata": {},
   "source": [
    "* 1. Generate its shape\n",
    "* 2. What is the transpose of the array\n",
    "* 3. Generate a new n-darray of X scaled up by integer 3 (Hint: note that scalars are applied on each element of a matrix)\n",
    "* 4. Generate a new matrix A = ([[3, 4], [5, 6], [7, 8]]). Compute the matrix multiplication of matrices X and A (note the condition for matrix multiplication must satisfy a certain rule)\n",
    "* 5. Compute the inverse of the result of multiplication of matrices (A and X)"
   ]
  },
  {
   "cell_type": "code",
   "execution_count": 13,
   "id": "6e46d751",
   "metadata": {},
   "outputs": [
    {
     "data": {
      "text/plain": [
       "(3, 3)"
      ]
     },
     "execution_count": 13,
     "metadata": {},
     "output_type": "execute_result"
    }
   ],
   "source": [
    "# question 1 of  5\n",
    "X = np.array([[25, 2], [5, 26], [3, 7]])\n",
    "x\n",
    "#we generate the shape of the array x by denoting\n",
    "x.shape\n",
    "#the output is  (3, 3)"
   ]
  },
  {
   "cell_type": "markdown",
   "id": "1d82e5ee",
   "metadata": {},
   "source": [
    "### transpose of the array"
   ]
  },
  {
   "cell_type": "code",
   "execution_count": 17,
   "id": "432e619b",
   "metadata": {},
   "outputs": [
    {
     "name": "stdout",
     "output_type": "stream",
     "text": [
      "[[25  5  3]\n",
      " [ 2 26  7]]\n"
     ]
    }
   ],
   "source": [
    "#question 2 of 5\n",
    "#finding the transpose of the array\n",
    "x=np.array([[25, 2], [5, 26], [3, 7]])\n",
    "y=(x.T)\n",
    "print(y)\n",
    "# first assign the array another variable such as y\n",
    "#after assign the transpose T\n",
    "#the solution of the transpose is [[25  5  3]\n",
    "                                #[ 2 26  7]]\n"
   ]
  },
  {
   "cell_type": "code",
   "execution_count": 36,
   "id": "438e363a",
   "metadata": {},
   "outputs": [
    {
     "name": "stdout",
     "output_type": "stream",
     "text": [
      "[[[25.          2.        ]\n",
      "  [ 5.         26.        ]\n",
      "  [ 3.          7.        ]]\n",
      "\n",
      " [[24.55102041  2.02040816]\n",
      "  [ 4.95918367 25.53061224]\n",
      "  [ 3.          6.91836735]]\n",
      "\n",
      " [[24.10204082  2.04081633]\n",
      "  [ 4.91836735 25.06122449]\n",
      "  [ 3.          6.83673469]]\n",
      "\n",
      " [[23.65306122  2.06122449]\n",
      "  [ 4.87755102 24.59183673]\n",
      "  [ 3.          6.75510204]]\n",
      "\n",
      " [[23.20408163  2.08163265]\n",
      "  [ 4.83673469 24.12244898]\n",
      "  [ 3.          6.67346939]]\n",
      "\n",
      " [[22.75510204  2.10204082]\n",
      "  [ 4.79591837 23.65306122]\n",
      "  [ 3.          6.59183673]]\n",
      "\n",
      " [[22.30612245  2.12244898]\n",
      "  [ 4.75510204 23.18367347]\n",
      "  [ 3.          6.51020408]]\n",
      "\n",
      " [[21.85714286  2.14285714]\n",
      "  [ 4.71428571 22.71428571]\n",
      "  [ 3.          6.42857143]]\n",
      "\n",
      " [[21.40816327  2.16326531]\n",
      "  [ 4.67346939 22.24489796]\n",
      "  [ 3.          6.34693878]]\n",
      "\n",
      " [[20.95918367  2.18367347]\n",
      "  [ 4.63265306 21.7755102 ]\n",
      "  [ 3.          6.26530612]]\n",
      "\n",
      " [[20.51020408  2.20408163]\n",
      "  [ 4.59183673 21.30612245]\n",
      "  [ 3.          6.18367347]]\n",
      "\n",
      " [[20.06122449  2.2244898 ]\n",
      "  [ 4.55102041 20.83673469]\n",
      "  [ 3.          6.10204082]]\n",
      "\n",
      " [[19.6122449   2.24489796]\n",
      "  [ 4.51020408 20.36734694]\n",
      "  [ 3.          6.02040816]]\n",
      "\n",
      " [[19.16326531  2.26530612]\n",
      "  [ 4.46938776 19.89795918]\n",
      "  [ 3.          5.93877551]]\n",
      "\n",
      " [[18.71428571  2.28571429]\n",
      "  [ 4.42857143 19.42857143]\n",
      "  [ 3.          5.85714286]]\n",
      "\n",
      " [[18.26530612  2.30612245]\n",
      "  [ 4.3877551  18.95918367]\n",
      "  [ 3.          5.7755102 ]]\n",
      "\n",
      " [[17.81632653  2.32653061]\n",
      "  [ 4.34693878 18.48979592]\n",
      "  [ 3.          5.69387755]]\n",
      "\n",
      " [[17.36734694  2.34693878]\n",
      "  [ 4.30612245 18.02040816]\n",
      "  [ 3.          5.6122449 ]]\n",
      "\n",
      " [[16.91836735  2.36734694]\n",
      "  [ 4.26530612 17.55102041]\n",
      "  [ 3.          5.53061224]]\n",
      "\n",
      " [[16.46938776  2.3877551 ]\n",
      "  [ 4.2244898  17.08163265]\n",
      "  [ 3.          5.44897959]]\n",
      "\n",
      " [[16.02040816  2.40816327]\n",
      "  [ 4.18367347 16.6122449 ]\n",
      "  [ 3.          5.36734694]]\n",
      "\n",
      " [[15.57142857  2.42857143]\n",
      "  [ 4.14285714 16.14285714]\n",
      "  [ 3.          5.28571429]]\n",
      "\n",
      " [[15.12244898  2.44897959]\n",
      "  [ 4.10204082 15.67346939]\n",
      "  [ 3.          5.20408163]]\n",
      "\n",
      " [[14.67346939  2.46938776]\n",
      "  [ 4.06122449 15.20408163]\n",
      "  [ 3.          5.12244898]]\n",
      "\n",
      " [[14.2244898   2.48979592]\n",
      "  [ 4.02040816 14.73469388]\n",
      "  [ 3.          5.04081633]]\n",
      "\n",
      " [[13.7755102   2.51020408]\n",
      "  [ 3.97959184 14.26530612]\n",
      "  [ 3.          4.95918367]]\n",
      "\n",
      " [[13.32653061  2.53061224]\n",
      "  [ 3.93877551 13.79591837]\n",
      "  [ 3.          4.87755102]]\n",
      "\n",
      " [[12.87755102  2.55102041]\n",
      "  [ 3.89795918 13.32653061]\n",
      "  [ 3.          4.79591837]]\n",
      "\n",
      " [[12.42857143  2.57142857]\n",
      "  [ 3.85714286 12.85714286]\n",
      "  [ 3.          4.71428571]]\n",
      "\n",
      " [[11.97959184  2.59183673]\n",
      "  [ 3.81632653 12.3877551 ]\n",
      "  [ 3.          4.63265306]]\n",
      "\n",
      " [[11.53061224  2.6122449 ]\n",
      "  [ 3.7755102  11.91836735]\n",
      "  [ 3.          4.55102041]]\n",
      "\n",
      " [[11.08163265  2.63265306]\n",
      "  [ 3.73469388 11.44897959]\n",
      "  [ 3.          4.46938776]]\n",
      "\n",
      " [[10.63265306  2.65306122]\n",
      "  [ 3.69387755 10.97959184]\n",
      "  [ 3.          4.3877551 ]]\n",
      "\n",
      " [[10.18367347  2.67346939]\n",
      "  [ 3.65306122 10.51020408]\n",
      "  [ 3.          4.30612245]]\n",
      "\n",
      " [[ 9.73469388  2.69387755]\n",
      "  [ 3.6122449  10.04081633]\n",
      "  [ 3.          4.2244898 ]]\n",
      "\n",
      " [[ 9.28571429  2.71428571]\n",
      "  [ 3.57142857  9.57142857]\n",
      "  [ 3.          4.14285714]]\n",
      "\n",
      " [[ 8.83673469  2.73469388]\n",
      "  [ 3.53061224  9.10204082]\n",
      "  [ 3.          4.06122449]]\n",
      "\n",
      " [[ 8.3877551   2.75510204]\n",
      "  [ 3.48979592  8.63265306]\n",
      "  [ 3.          3.97959184]]\n",
      "\n",
      " [[ 7.93877551  2.7755102 ]\n",
      "  [ 3.44897959  8.16326531]\n",
      "  [ 3.          3.89795918]]\n",
      "\n",
      " [[ 7.48979592  2.79591837]\n",
      "  [ 3.40816327  7.69387755]\n",
      "  [ 3.          3.81632653]]\n",
      "\n",
      " [[ 7.04081633  2.81632653]\n",
      "  [ 3.36734694  7.2244898 ]\n",
      "  [ 3.          3.73469388]]\n",
      "\n",
      " [[ 6.59183673  2.83673469]\n",
      "  [ 3.32653061  6.75510204]\n",
      "  [ 3.          3.65306122]]\n",
      "\n",
      " [[ 6.14285714  2.85714286]\n",
      "  [ 3.28571429  6.28571429]\n",
      "  [ 3.          3.57142857]]\n",
      "\n",
      " [[ 5.69387755  2.87755102]\n",
      "  [ 3.24489796  5.81632653]\n",
      "  [ 3.          3.48979592]]\n",
      "\n",
      " [[ 5.24489796  2.89795918]\n",
      "  [ 3.20408163  5.34693878]\n",
      "  [ 3.          3.40816327]]\n",
      "\n",
      " [[ 4.79591837  2.91836735]\n",
      "  [ 3.16326531  4.87755102]\n",
      "  [ 3.          3.32653061]]\n",
      "\n",
      " [[ 4.34693878  2.93877551]\n",
      "  [ 3.12244898  4.40816327]\n",
      "  [ 3.          3.24489796]]\n",
      "\n",
      " [[ 3.89795918  2.95918367]\n",
      "  [ 3.08163265  3.93877551]\n",
      "  [ 3.          3.16326531]]\n",
      "\n",
      " [[ 3.44897959  2.97959184]\n",
      "  [ 3.04081633  3.46938776]\n",
      "  [ 3.          3.08163265]]\n",
      "\n",
      " [[ 3.          3.        ]\n",
      "  [ 3.          3.        ]\n",
      "  [ 3.          3.        ]]]\n"
     ]
    }
   ],
   "source": [
    "#Generate a new n-darray of X scaled up by integer 3 \n",
    "x=np.array([[25, 2], [5, 26], [3, 7]])\n",
    "y=np.linspace(x,3)## we use linspacing to generate the n-darray of x\n",
    "print(y)"
   ]
  },
  {
   "cell_type": "code",
   "execution_count": 52,
   "id": "1eb50bdd",
   "metadata": {},
   "outputs": [
    {
     "ename": "ValueError",
     "evalue": "cannot reshape array of size 6 into shape (0,6)",
     "output_type": "error",
     "traceback": [
      "\u001b[1;31m---------------------------------------------------------------------------\u001b[0m",
      "\u001b[1;31mValueError\u001b[0m                                Traceback (most recent call last)",
      "Input \u001b[1;32mIn [52]\u001b[0m, in \u001b[0;36m<cell line: 3>\u001b[1;34m()\u001b[0m\n\u001b[0;32m      1\u001b[0m \u001b[38;5;66;03m#Generating a new matrix \u001b[39;00m\n\u001b[0;32m      2\u001b[0m A \u001b[38;5;241m=\u001b[39m ([[\u001b[38;5;241m3\u001b[39m, \u001b[38;5;241m4\u001b[39m], [\u001b[38;5;241m5\u001b[39m, \u001b[38;5;241m6\u001b[39m], [\u001b[38;5;241m7\u001b[39m, \u001b[38;5;241m8\u001b[39m]])\n\u001b[1;32m----> 3\u001b[0m x\u001b[38;5;241m=\u001b[39m \u001b[43mnp\u001b[49m\u001b[38;5;241;43m.\u001b[39;49m\u001b[43marray\u001b[49m\u001b[43m(\u001b[49m\u001b[43m[\u001b[49m\u001b[43m[\u001b[49m\u001b[38;5;241;43m25\u001b[39;49m\u001b[43m,\u001b[49m\u001b[43m \u001b[49m\u001b[38;5;241;43m2\u001b[39;49m\u001b[43m]\u001b[49m\u001b[43m,\u001b[49m\u001b[43m \u001b[49m\u001b[43m[\u001b[49m\u001b[38;5;241;43m5\u001b[39;49m\u001b[43m,\u001b[49m\u001b[43m \u001b[49m\u001b[38;5;241;43m26\u001b[39;49m\u001b[43m]\u001b[49m\u001b[43m,\u001b[49m\u001b[43m \u001b[49m\u001b[43m[\u001b[49m\u001b[38;5;241;43m3\u001b[39;49m\u001b[43m,\u001b[49m\u001b[43m \u001b[49m\u001b[38;5;241;43m7\u001b[39;49m\u001b[43m]\u001b[49m\u001b[43m]\u001b[49m\u001b[43m)\u001b[49m\u001b[38;5;241;43m.\u001b[39;49m\u001b[43mreshape\u001b[49m\u001b[43m(\u001b[49m\u001b[38;5;241;43m0\u001b[39;49m\u001b[43m,\u001b[49m\u001b[38;5;241;43m6\u001b[39;49m\u001b[43m)\u001b[49m\n\u001b[0;32m      4\u001b[0m x\n\u001b[0;32m      5\u001b[0m \u001b[38;5;28mprint\u001b[39m(x\u001b[38;5;241m.\u001b[39mflatten())\n",
      "\u001b[1;31mValueError\u001b[0m: cannot reshape array of size 6 into shape (0,6)"
     ]
    }
   ],
   "source": [
    "#Generating a new matrix \n",
    "A = ([[3, 4], [5, 6], [7, 8]])\n",
    "x= np.array([[25, 2], [5, 26], [3, 7]]).reshape(0,6)\n",
    "x\n",
    "print(x.flatten())"
   ]
  },
  {
   "cell_type": "code",
   "execution_count": 53,
   "id": "b8e4704d",
   "metadata": {},
   "outputs": [
    {
     "name": "stdout",
     "output_type": "stream",
     "text": [
      "[[ 75   8]\n",
      " [ 25 156]\n",
      " [ 21  56]]\n"
     ]
    }
   ],
   "source": [
    "#multiply matrix \n",
    "y=np.multiply(A,x)\n",
    "print(y)"
   ]
  },
  {
   "cell_type": "markdown",
   "id": "e286350c",
   "metadata": {},
   "source": [
    "## inverse of the multiplication"
   ]
  },
  {
   "cell_type": "code",
   "execution_count": null,
   "id": "e930e129",
   "metadata": {},
   "outputs": [],
   "source": [
    "ytyinv =np.linalg.i"
   ]
  },
  {
   "cell_type": "markdown",
   "id": "324380e7",
   "metadata": {},
   "source": [
    "## Question 6: Construct a matrix below ; \n",
    "\n",
    "$$\\left[\\begin{array}{ccc} 1 & 0.2 & 0.5 \\\\ 0.2 & 1 & 0.8 \\\\ 0.5 & 0.8 & 1 \\end{array}\\right]$$\n",
    "\n",
    "as a NumPy array.\n",
    "\n",
    "\n",
    "(a). Compute an Inversion of the matrix **Transpose** \n",
    "\n",
    "(b). Computer the **determinant** of the matrix if possible "
   ]
  },
  {
   "cell_type": "code",
   "execution_count": 9,
   "id": "16595d0a",
   "metadata": {},
   "outputs": [
    {
     "data": {
      "text/plain": [
       "array([[1. , 0.2, 0.5],\n",
       "       [0.2, 1. , 0.8],\n",
       "       [0.5, 0.8, 1. ]])"
      ]
     },
     "execution_count": 9,
     "metadata": {},
     "output_type": "execute_result"
    }
   ],
   "source": [
    "#constructing the matrix above\n",
    "import numpy as np\n",
    "x=np.array([[1,0.2,0.5],[0.2,1,0.8],[0.5,0.8,1]])\n",
    "x\n",
    "#the solution after forming the matrix is array([[1. , 0.2, 0.5],\n",
    "       #[0.2, 1. , 0.8],\n",
    "      # [0.5, 0.8, 1. ]])"
   ]
  },
  {
   "cell_type": "markdown",
   "id": "c313cd02",
   "metadata": {},
   "source": [
    "### inverse of the matrix transposed"
   ]
  },
  {
   "cell_type": "code",
   "execution_count": 10,
   "id": "bd30aca1",
   "metadata": {},
   "outputs": [
    {
     "name": "stdout",
     "output_type": "stream",
     "text": [
      "[[1.29 0.8  1.16]\n",
      " [0.8  1.68 1.7 ]\n",
      " [1.16 1.7  1.89]]\n"
     ]
    }
   ],
   "source": [
    "#finding the inverse of the matrix transposed\n",
    "Xtx=np.dot(x.T,x)\n",
    "Xtxinv=np.linalg.inv(Xtx)\n",
    "print(Xtx)\n",
    "#this outputs [[1.29 0.8  1.16]\n",
    " #[0.8  1.68 1.7 ]\n",
    " #[1.16 1.7  1.89]] after the inverse is calculated"
   ]
  },
  {
   "cell_type": "markdown",
   "id": "e4a4f7c9",
   "metadata": {},
   "source": [
    "#### determinate of the matrix"
   ]
  },
  {
   "cell_type": "code",
   "execution_count": 11,
   "id": "2b0f7eb8",
   "metadata": {},
   "outputs": [
    {
     "name": "stdout",
     "output_type": "stream",
     "text": [
      "0.2299999999999999\n"
     ]
    }
   ],
   "source": [
    "#determinate of x\n",
    "det=np.linalg.det(x)\n",
    "print(det)\n",
    "#this outputs 0.2299999999999999 as the determinate of the matrix x"
   ]
  },
  {
   "cell_type": "markdown",
   "id": "13b15593",
   "metadata": {},
   "source": [
    "## Optional Section: Attempting these extra questions yields extra marks as indicated in the brackets"
   ]
  },
  {
   "cell_type": "markdown",
   "id": "582be06c",
   "metadata": {},
   "source": [
    "## 7. Compute the Mean, variance, median, mode of a uniform random variable (10 marks)"
   ]
  },
  {
   "cell_type": "code",
   "execution_count": 24,
   "id": "03ea6f1e",
   "metadata": {},
   "outputs": [
    {
     "ename": "ModuleNotFoundError",
     "evalue": "No module named 'scipy'",
     "output_type": "error",
     "traceback": [
      "\u001b[1;31m---------------------------------------------------------------------------\u001b[0m",
      "\u001b[1;31mModuleNotFoundError\u001b[0m                       Traceback (most recent call last)",
      "Input \u001b[1;32mIn [24]\u001b[0m, in \u001b[0;36m<cell line: 4>\u001b[1;34m()\u001b[0m\n\u001b[0;32m      1\u001b[0m \u001b[38;5;66;03m#solution to question 7\u001b[39;00m\n\u001b[0;32m      2\u001b[0m \u001b[38;5;66;03m#import librabries\u001b[39;00m\n\u001b[0;32m      3\u001b[0m \u001b[38;5;28;01mimport\u001b[39;00m \u001b[38;5;21;01mnumpy\u001b[39;00m \u001b[38;5;28;01mas\u001b[39;00m \u001b[38;5;21;01mnp\u001b[39;00m\n\u001b[1;32m----> 4\u001b[0m \u001b[38;5;28;01mfrom\u001b[39;00m \u001b[38;5;21;01mscipy\u001b[39;00m\u001b[38;5;21;01m.\u001b[39;00m\u001b[38;5;21;01mstats\u001b[39;00m \u001b[38;5;28;01mimport\u001b[39;00m uniform\n\u001b[0;32m      5\u001b[0m \u001b[38;5;66;03m# Python code to compute mean, var, median, mode\u001b[39;00m\n\u001b[0;32m      6\u001b[0m X \u001b[38;5;241m=\u001b[39m stats\u001b[38;5;241m.\u001b[39muniform\u001b[38;5;241m.\u001b[39mrvs(a,b,size\u001b[38;5;241m=\u001b[39m\u001b[38;5;241m1000\u001b[39m)\n",
      "\u001b[1;31mModuleNotFoundError\u001b[0m: No module named 'scipy'"
     ]
    }
   ],
   "source": [
    "#solution to question 7\n",
    "#import librabries\n",
    "import numpy as np\n",
    "from scipy.stats import uniform\n",
    "# Python code to compute mean, var, median, mode\n",
    "X = stats.uniform.rvs(a,b,size=1000)\n",
    "M = np.mean(X)\n",
    "V = np.var(X)\n",
    "Med = np.median(X)\n",
    "Mod = stats.mode(X)"
   ]
  },
  {
   "cell_type": "markdown",
   "id": "2b1b6842",
   "metadata": {},
   "source": [
    "## GOOD LUCK "
   ]
  },
  {
   "cell_type": "code",
   "execution_count": null,
   "id": "151d25c9",
   "metadata": {},
   "outputs": [],
   "source": []
  }
 ],
 "metadata": {
  "kernelspec": {
   "display_name": "Python 3 (ipykernel)",
   "language": "python",
   "name": "python3"
  },
  "language_info": {
   "codemirror_mode": {
    "name": "ipython",
    "version": 3
   },
   "file_extension": ".py",
   "mimetype": "text/x-python",
   "name": "python",
   "nbconvert_exporter": "python",
   "pygments_lexer": "ipython3",
   "version": "3.10.5"
  }
 },
 "nbformat": 4,
 "nbformat_minor": 5
}
